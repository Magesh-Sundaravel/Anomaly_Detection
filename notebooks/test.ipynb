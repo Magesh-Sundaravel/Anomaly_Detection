{
 "cells": [
  {
   "cell_type": "code",
   "execution_count": null,
   "id": "7aa63943-4c2a-40e3-a146-6823a8472a66",
   "metadata": {},
   "outputs": [],
   "source": [
    "import pandas as pd\n",
    "from sklearn.model_selection import train_test_split, TimeSeriesSplit\n",
    "from sklearn.ensemble import RandomForestClassifier  # Example model\n",
    "from sklearn.metrics import classification_report\n",
    "\n",
    "# Step 1: Combine data from all sensors\n",
    "dataframes = []  # List to hold individual sensor DataFrames\n",
    "for sensor_id in range(1, 64):\n",
    "    df_sensor = pd.read_csv(f'sensor_{sensor_id}.csv')  # Load each sensor's data\n",
    "    df_sensor['sensor_id'] = sensor_id  # Add sensor identifier\n",
    "    dataframes.append(df_sensor)\n",
    "\n",
    "combined_df = pd.concat(dataframes, ignore_index=True)\n",
    "\n",
    "# Step 2: Feature engineering\n",
    "# Assuming features are already engineered in each sensor DataFrame\n",
    "\n",
    "# Step 3: Train-test split\n",
    "train_size = int(len(combined_df) * 0.8)\n",
    "train_df = combined_df[:train_size]\n",
    "test_df = combined_df[train_size:]\n",
    "\n",
    "# Alternatively, use time-based cross-validation\n",
    "# tscv = TimeSeriesSplit(n_splits=5)\n",
    "\n",
    "# Step 4: Model training\n",
    "X_train = train_df.drop(['anomaly_label'], axis=1)  # Drop label column\n",
    "y_train = train_df['anomaly_label']\n",
    "X_test = test_df.drop(['anomaly_label'], axis=1)\n",
    "y_test = test_df['anomaly_label']\n",
    "\n",
    "model = RandomForestClassifier()\n",
    "model.fit(X_train, y_train)\n",
    "\n",
    "# Step 5: Model evaluation\n",
    "y_pred = model.predict(X_test)\n",
    "print(classification_report(y_test, y_pred))\n",
    "\n",
    "# Step 6: Sensor-specific performance\n",
    "for sensor_id in combined_df['sensor_id'].unique():\n",
    "    sensor_test_df = test_df[test_df['sensor_id'] == sensor_id]\n",
    "    X_sensor_test = sensor_test_df.drop(['anomaly_label'], axis=1)\n",
    "    y_sensor_test = sensor_test_df['anomaly_label']\n",
    "    \n",
    "    y_sensor_pred = model.predict(X_sensor_test)\n",
    "    print(f\"Performance for sensor {sensor_id}:\")\n",
    "    print(classification_report(y_sensor_test, y_sensor_pred))\n"
   ]
  }
 ],
 "metadata": {
  "kernelspec": {
   "display_name": "thesis",
   "language": "python",
   "name": "thesis"
  },
  "language_info": {
   "codemirror_mode": {
    "name": "ipython",
    "version": 3
   },
   "file_extension": ".py",
   "mimetype": "text/x-python",
   "name": "python",
   "nbconvert_exporter": "python",
   "pygments_lexer": "ipython3",
   "version": "3.12.2"
  }
 },
 "nbformat": 4,
 "nbformat_minor": 5
}
